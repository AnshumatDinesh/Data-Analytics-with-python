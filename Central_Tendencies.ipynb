{
 "cells": [
  {
   "cell_type": "code",
   "execution_count": 56,
   "metadata": {},
   "outputs": [],
   "source": [
    "import pandas as pd\n",
    "import numpy as np\n",
    "import math\n",
    "import statistics\n",
    "from matplotlib import pyplot\n",
    "from scipy.stats import skew"
   ]
  },
  {
   "cell_type": "code",
   "execution_count": 40,
   "metadata": {},
   "outputs": [
    {
     "name": "stdout",
     "output_type": "stream",
     "text": [
      "    S.No.  MTE (25)  Mini Project (25)  Total (50)  ETE (50)  Total\n",
      "0       1      5.00                 20       25.00      12.0  37.00\n",
      "1       2     11.05                 20       31.05      26.0  57.05\n",
      "2       3      8.10                 20       28.10      14.0  42.10\n",
      "3       4      6.00                 10       16.00      13.0  29.00\n",
      "4       5     11.35                 20       31.35      17.0  48.35\n",
      "..    ...       ...                ...         ...       ...    ...\n",
      "74     75     12.05                 10       22.05      20.0  42.05\n",
      "75     76     12.25                 10       22.25      28.0  50.25\n",
      "76     77      1.75                 10       11.75       NaN   0.00\n",
      "77     78      3.00                 10       13.00       NaN   0.00\n",
      "78     79      5.80                 10       15.80      12.0  27.80\n",
      "\n",
      "[79 rows x 6 columns]\n"
     ]
    }
   ],
   "source": [
    "path=\"IBM-313 Marks.xlsx\"\n",
    "table=pd.read_excel(path)\n",
    "print(table)"
   ]
  },
  {
   "cell_type": "code",
   "execution_count": 41,
   "metadata": {},
   "outputs": [
    {
     "data": {
      "text/plain": [
       "0     37.00\n",
       "1     57.05\n",
       "2     42.10\n",
       "3     29.00\n",
       "4     48.35\n",
       "      ...  \n",
       "74    42.05\n",
       "75    50.25\n",
       "76     0.00\n",
       "77     0.00\n",
       "78    27.80\n",
       "Name: Total, Length: 79, dtype: float64"
      ]
     },
     "execution_count": 41,
     "metadata": {},
     "output_type": "execute_result"
    }
   ],
   "source": [
    "total=table['Total']\n",
    "total"
   ]
  },
  {
   "cell_type": "code",
   "execution_count": 42,
   "metadata": {},
   "outputs": [
    {
     "data": {
      "text/plain": [
       "46.90632911392405"
      ]
     },
     "execution_count": 42,
     "metadata": {},
     "output_type": "execute_result"
    }
   ],
   "source": [
    "np.mean(total)"
   ]
  },
  {
   "cell_type": "code",
   "execution_count": 43,
   "metadata": {},
   "outputs": [
    {
     "data": {
      "text/plain": [
       "45.0"
      ]
     },
     "execution_count": 43,
     "metadata": {},
     "output_type": "execute_result"
    }
   ],
   "source": [
    "np.median(total)"
   ]
  },
  {
   "cell_type": "code",
   "execution_count": 44,
   "metadata": {},
   "outputs": [
    {
     "name": "stdout",
     "output_type": "stream",
     "text": [
      "45.0\n",
      "63.793\n"
     ]
    }
   ],
   "source": [
    "print(np.percentile(total,50))\n",
    "print(np.percentile(total,87))"
   ]
  },
  {
   "cell_type": "code",
   "execution_count": 45,
   "metadata": {},
   "outputs": [
    {
     "name": "stdout",
     "output_type": "stream",
     "text": [
      "37.0\n",
      "57.05\n",
      "42.1\n",
      "29.0\n",
      "48.35\n",
      "55.0\n",
      "43.5\n",
      "38.0\n",
      "38.0\n",
      "31.5\n",
      "45.5\n",
      "42.55\n",
      "51.2\n",
      "51.25\n",
      "41.5\n",
      "63.75\n",
      "28.0\n",
      "25.7\n",
      "26.05\n",
      "32.7\n",
      "42.7\n",
      "74.1\n",
      "61.0\n",
      "57.8\n",
      "94.5\n",
      "92.5\n",
      "71.0\n",
      "59.05\n",
      "63.8\n",
      "44.0\n",
      "69.65\n",
      "53.35\n",
      "72.0\n",
      "55.35\n",
      "52.25\n",
      "60.1\n",
      "70.0\n",
      "39.7\n",
      "59.4\n",
      "53.7\n",
      "47.5\n",
      "55.5\n",
      "48.0\n",
      "45.0\n",
      "48.65\n",
      "72.7\n",
      "64.45\n",
      "69.8\n",
      "33.7\n",
      "50.1\n",
      "45.65\n",
      "54.5\n",
      "54.9\n",
      "43.5\n",
      "35.5\n",
      "39.7\n",
      "36.55\n",
      "44.3\n",
      "42.15\n",
      "48.35\n",
      "37.5\n",
      "49.0\n",
      "42.7\n",
      "35.0\n",
      "42.3\n",
      "39.85\n",
      "41.0\n",
      "33.0\n",
      "30.5\n",
      "41.0\n",
      "55.4\n",
      "20.2\n",
      "39.9\n",
      "24.0\n",
      "42.05\n",
      "50.25\n",
      "0.0\n",
      "0.0\n",
      "27.8\n"
     ]
    }
   ],
   "source": [
    "for i in total:\n",
    "    print(i)"
   ]
  },
  {
   "cell_type": "code",
   "execution_count": 46,
   "metadata": {},
   "outputs": [
    {
     "name": "stdout",
     "output_type": "stream",
     "text": [
      "94.5\n",
      "0.0\n"
     ]
    }
   ],
   "source": [
    "print(max(total))\n",
    "print(min(total))\n"
   ]
  },
  {
   "cell_type": "code",
   "execution_count": 47,
   "metadata": {},
   "outputs": [
    {
     "name": "stdout",
     "output_type": "stream",
     "text": [
      "38.0 45.0 55.375 94.5 17.375\n"
     ]
    }
   ],
   "source": [
    "q1=np.percentile(total,25)\n",
    "q2=np.percentile(total,50)\n",
    "q3=np.percentile(total,75)\n",
    "rangef=max(total)-min(total)\n",
    "IQ=q3-q1\n",
    "print(q1,q2,q3,rangef,IQ)"
   ]
  },
  {
   "cell_type": "code",
   "execution_count": 48,
   "metadata": {},
   "outputs": [
    {
     "data": {
      "text/plain": [
       "262.7814789296587"
      ]
     },
     "execution_count": 48,
     "metadata": {},
     "output_type": "execute_result"
    }
   ],
   "source": [
    "np.var(total)"
   ]
  },
  {
   "cell_type": "code",
   "execution_count": 50,
   "metadata": {},
   "outputs": [
    {
     "data": {
      "text/plain": [
       "16.210536046955966"
      ]
     },
     "execution_count": 50,
     "metadata": {},
     "output_type": "execute_result"
    }
   ],
   "source": [
    "math.sqrt(np.var(total))"
   ]
  },
  {
   "cell_type": "code",
   "execution_count": 51,
   "metadata": {},
   "outputs": [
    {
     "data": {
      "text/plain": [
       "16.210536046955966"
      ]
     },
     "execution_count": 51,
     "metadata": {},
     "output_type": "execute_result"
    }
   ],
   "source": [
    "statistics.pstdev(total)"
   ]
  },
  {
   "cell_type": "code",
   "execution_count": 52,
   "metadata": {},
   "outputs": [
    {
     "data": {
      "text/plain": [
       "16.31411880088133"
      ]
     },
     "execution_count": 52,
     "metadata": {},
     "output_type": "execute_result"
    }
   ],
   "source": [
    "statistics.stdev(total)"
   ]
  },
  {
   "cell_type": "code",
   "execution_count": 54,
   "metadata": {},
   "outputs": [
    {
     "data": {
      "text/plain": [
       "0.10226407464884266"
      ]
     },
     "execution_count": 54,
     "metadata": {},
     "output_type": "execute_result"
    }
   ],
   "source": [
    "skew(total)"
   ]
  },
  {
   "cell_type": "code",
   "execution_count": 57,
   "metadata": {},
   "outputs": [
    {
     "data": {
      "image/png": "[encoded data removed]",
      "text/plain": [
       "<Figure size 432x288 with 1 Axes>"
      ]
     },
     "metadata": {
      "needs_background": "light"
     },
     "output_type": "display_data"
    }
   ],
   "source": [
    "pyplot.boxplot(total,sym=\"+\")\n",
    "pyplot.show()"
   ]
  },
  {
   "cell_type": "code",
   "execution_count": null,
   "metadata": {},
   "outputs": [],
   "source": []
  }
 ],
 "metadata": {
  "interpreter": {
   "hash": "ecf79996b2a8b109e6e9fee409f8efaec0c952adcb90d4a88b4735bbcdd30dd5"
  },
  "kernelspec": {
   "display_name": "Python 3.10.1 64-bit",
   "language": "python",
   "name": "python3"
  },
  "language_info": {
   "codemirror_mode": {
    "name": "ipython",
    "version": 3
   },
   "file_extension": ".py",
   "mimetype": "text/x-python",
   "name": "python",
   "nbconvert_exporter": "python",
   "pygments_lexer": "ipython3",
   "version": "3.10.1"
  },
  "orig_nbformat": 4
 },
 "nbformat": 4,
 "nbformat_minor": 2
}
